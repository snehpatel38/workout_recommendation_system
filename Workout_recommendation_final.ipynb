{
 "cells": [
  {
   "cell_type": "markdown",
   "metadata": {
    "id": "YgwJOe7nn8db"
   },
   "source": [
    "# Workout Recommendation System using Content - Based Filtering"
   ]
  },
  {
   "cell_type": "markdown",
   "metadata": {
    "id": "8kNsMc3Hw6lC"
   },
   "source": [
    "## Theme of Content - Based Filtering"
   ]
  },
  {
   "cell_type": "markdown",
   "metadata": {
    "id": "yYTtHHdwvICs"
   },
   "source": [
    "![architecture](https://drive.google.com/uc?export=view&id=1CBS4Wnbf70UnoCDvYdL6ZVTYaYUwhtY0)"
   ]
  },
  {
   "cell_type": "markdown",
   "metadata": {
    "id": "6ebjhlUHBl9C"
   },
   "source": [
    "`Content-Based Filtering` method relies on the attributes of users to recommend items, ensuring that the recommendations align closely with the user's specific characteristics and needs."
   ]
  },
  {
   "cell_type": "markdown",
   "metadata": {
    "id": "g6hXKTQU98GV"
   },
   "source": [
    "![architecture](https://drive.google.com/uc?export=view&id=1qWZhFFC22CvhbQHb4EpW_spYO64SXBwv)"
   ]
  },
  {
   "cell_type": "markdown",
   "metadata": {
    "id": "iayKty8P-V4L"
   },
   "source": [
    "## 1. DATA LOADING & CLEANING"
   ]
  },
  {
   "cell_type": "code",
   "execution_count": 1,
   "metadata": {
    "id": "bi_pyIoI4fKA"
   },
   "outputs": [],
   "source": [
    "import pandas as pd\n",
    "import numpy as np\n",
    "from sklearn.preprocessing import LabelEncoder, StandardScaler\n",
    "from sklearn.metrics.pairwise import cosine_similarity"
   ]
  },
  {
   "cell_type": "code",
   "execution_count": 3,
   "metadata": {
    "id": "4Y-HLIaL4rN9"
   },
   "outputs": [],
   "source": [
    "data = pd.read_excel(\"gym recommendation.xlsx\")"
   ]
  },
  {
   "cell_type": "code",
   "execution_count": 4,
   "metadata": {
    "colab": {
     "base_uri": "https://localhost:8080/"
    },
    "id": "AKtyFwm34wkf",
    "outputId": "f9b55235-bd31-4adf-fd73-d92dc67bf83f"
   },
   "outputs": [
    {
     "data": {
      "text/plain": [
       "Index(['ID', 'Sex', 'Age', 'Height', 'Weight', 'Hypertension', 'Diabetes',\n",
       "       'BMI', 'Level', 'Fitness Goal', 'Fitness Type', 'Exercises',\n",
       "       'Equipment', 'Diet', 'Recommendation'],\n",
       "      dtype='object')"
      ]
     },
     "execution_count": 4,
     "metadata": {},
     "output_type": "execute_result"
    }
   ],
   "source": [
    "data.columns"
   ]
  },
  {
   "cell_type": "code",
   "execution_count": 5,
   "metadata": {
    "id": "b702opPG4181"
   },
   "outputs": [],
   "source": [
    "data.drop(columns=['ID'], inplace = True)"
   ]
  },
  {
   "cell_type": "code",
   "execution_count": 6,
   "metadata": {
    "colab": {
     "base_uri": "https://localhost:8080/",
     "height": 605
    },
    "id": "NlvZPfze46n2",
    "outputId": "93ade533-d57f-441c-b26c-923305f7e45a"
   },
   "outputs": [
    {
     "data": {
      "text/html": [
       "<div>\n",
       "<style scoped>\n",
       "    .dataframe tbody tr th:only-of-type {\n",
       "        vertical-align: middle;\n",
       "    }\n",
       "\n",
       "    .dataframe tbody tr th {\n",
       "        vertical-align: top;\n",
       "    }\n",
       "\n",
       "    .dataframe thead th {\n",
       "        text-align: right;\n",
       "    }\n",
       "</style>\n",
       "<table border=\"1\" class=\"dataframe\">\n",
       "  <thead>\n",
       "    <tr style=\"text-align: right;\">\n",
       "      <th></th>\n",
       "      <th>Sex</th>\n",
       "      <th>Age</th>\n",
       "      <th>Height</th>\n",
       "      <th>Weight</th>\n",
       "      <th>Hypertension</th>\n",
       "      <th>Diabetes</th>\n",
       "      <th>BMI</th>\n",
       "      <th>Level</th>\n",
       "      <th>Fitness Goal</th>\n",
       "      <th>Fitness Type</th>\n",
       "      <th>Exercises</th>\n",
       "      <th>Equipment</th>\n",
       "      <th>Diet</th>\n",
       "      <th>Recommendation</th>\n",
       "    </tr>\n",
       "  </thead>\n",
       "  <tbody>\n",
       "    <tr>\n",
       "      <th>0</th>\n",
       "      <td>Male</td>\n",
       "      <td>18</td>\n",
       "      <td>1.68</td>\n",
       "      <td>47.5</td>\n",
       "      <td>No</td>\n",
       "      <td>No</td>\n",
       "      <td>16.83</td>\n",
       "      <td>Underweight</td>\n",
       "      <td>Weight Gain</td>\n",
       "      <td>Muscular Fitness</td>\n",
       "      <td>Squats, deadlifts, bench presses, and overhead...</td>\n",
       "      <td>Dumbbells and barbells</td>\n",
       "      <td>Vegetables: (Carrots, Sweet Potato, and Lettuc...</td>\n",
       "      <td>Follow a regular exercise schedule. Adhere to ...</td>\n",
       "    </tr>\n",
       "    <tr>\n",
       "      <th>1</th>\n",
       "      <td>Male</td>\n",
       "      <td>18</td>\n",
       "      <td>1.68</td>\n",
       "      <td>47.5</td>\n",
       "      <td>Yes</td>\n",
       "      <td>No</td>\n",
       "      <td>16.83</td>\n",
       "      <td>Underweight</td>\n",
       "      <td>Weight Gain</td>\n",
       "      <td>Muscular Fitness</td>\n",
       "      <td>Squats, deadlifts, bench presses, and overhead...</td>\n",
       "      <td>Light athletic shoes, resistance bands, and li...</td>\n",
       "      <td>Vegetables: (Tomatoes, Garlic, leafy greens, b...</td>\n",
       "      <td>Follow a regular exercise schedule. Adhere to ...</td>\n",
       "    </tr>\n",
       "    <tr>\n",
       "      <th>2</th>\n",
       "      <td>Male</td>\n",
       "      <td>18</td>\n",
       "      <td>1.68</td>\n",
       "      <td>47.5</td>\n",
       "      <td>No</td>\n",
       "      <td>Yes</td>\n",
       "      <td>16.83</td>\n",
       "      <td>Underweight</td>\n",
       "      <td>Weight Gain</td>\n",
       "      <td>Muscular Fitness</td>\n",
       "      <td>Squats, yoga, deadlifts, bench presses, and ov...</td>\n",
       "      <td>Dumbbells, barbells and Blood glucose monitor</td>\n",
       "      <td>Vegetables: (Garlic, Roma Tomatoes, Capers and...</td>\n",
       "      <td>Follow a regular exercise schedule. Adhere to ...</td>\n",
       "    </tr>\n",
       "    <tr>\n",
       "      <th>3</th>\n",
       "      <td>Male</td>\n",
       "      <td>18</td>\n",
       "      <td>1.68</td>\n",
       "      <td>47.5</td>\n",
       "      <td>Yes</td>\n",
       "      <td>Yes</td>\n",
       "      <td>16.83</td>\n",
       "      <td>Underweight</td>\n",
       "      <td>Weight Gain</td>\n",
       "      <td>Muscular Fitness</td>\n",
       "      <td>Squats, yoga, deadlifts, bench presses, and ov...</td>\n",
       "      <td>Light athletic shoes, resistance bands, light ...</td>\n",
       "      <td>Vegetables: (Garlic, Roma Tomatoes, Capers, Gr...</td>\n",
       "      <td>Follow a regular exercise schedule. Adhere to ...</td>\n",
       "    </tr>\n",
       "    <tr>\n",
       "      <th>4</th>\n",
       "      <td>Male</td>\n",
       "      <td>18</td>\n",
       "      <td>1.68</td>\n",
       "      <td>47.5</td>\n",
       "      <td>No</td>\n",
       "      <td>No</td>\n",
       "      <td>16.83</td>\n",
       "      <td>Underweight</td>\n",
       "      <td>Weight Gain</td>\n",
       "      <td>Muscular Fitness</td>\n",
       "      <td>Squats, deadlifts, bench presses, and overhead...</td>\n",
       "      <td>Dumbbells and barbells</td>\n",
       "      <td>Vegetables: (Carrots, Sweet Potato, Lettuce); ...</td>\n",
       "      <td>Follow a regular exercise schedule. Adhere to ...</td>\n",
       "    </tr>\n",
       "  </tbody>\n",
       "</table>\n",
       "</div>"
      ],
      "text/plain": [
       "    Sex  Age  Height  Weight Hypertension Diabetes    BMI        Level  \\\n",
       "0  Male   18    1.68    47.5           No       No  16.83  Underweight   \n",
       "1  Male   18    1.68    47.5          Yes       No  16.83  Underweight   \n",
       "2  Male   18    1.68    47.5           No      Yes  16.83  Underweight   \n",
       "3  Male   18    1.68    47.5          Yes      Yes  16.83  Underweight   \n",
       "4  Male   18    1.68    47.5           No       No  16.83  Underweight   \n",
       "\n",
       "  Fitness Goal      Fitness Type  \\\n",
       "0  Weight Gain  Muscular Fitness   \n",
       "1  Weight Gain  Muscular Fitness   \n",
       "2  Weight Gain  Muscular Fitness   \n",
       "3  Weight Gain  Muscular Fitness   \n",
       "4  Weight Gain  Muscular Fitness   \n",
       "\n",
       "                                           Exercises  \\\n",
       "0  Squats, deadlifts, bench presses, and overhead...   \n",
       "1  Squats, deadlifts, bench presses, and overhead...   \n",
       "2  Squats, yoga, deadlifts, bench presses, and ov...   \n",
       "3  Squats, yoga, deadlifts, bench presses, and ov...   \n",
       "4  Squats, deadlifts, bench presses, and overhead...   \n",
       "\n",
       "                                           Equipment  \\\n",
       "0                             Dumbbells and barbells   \n",
       "1  Light athletic shoes, resistance bands, and li...   \n",
       "2      Dumbbells, barbells and Blood glucose monitor   \n",
       "3  Light athletic shoes, resistance bands, light ...   \n",
       "4                             Dumbbells and barbells   \n",
       "\n",
       "                                                Diet  \\\n",
       "0  Vegetables: (Carrots, Sweet Potato, and Lettuc...   \n",
       "1  Vegetables: (Tomatoes, Garlic, leafy greens, b...   \n",
       "2  Vegetables: (Garlic, Roma Tomatoes, Capers and...   \n",
       "3  Vegetables: (Garlic, Roma Tomatoes, Capers, Gr...   \n",
       "4  Vegetables: (Carrots, Sweet Potato, Lettuce); ...   \n",
       "\n",
       "                                      Recommendation  \n",
       "0  Follow a regular exercise schedule. Adhere to ...  \n",
       "1  Follow a regular exercise schedule. Adhere to ...  \n",
       "2  Follow a regular exercise schedule. Adhere to ...  \n",
       "3  Follow a regular exercise schedule. Adhere to ...  \n",
       "4  Follow a regular exercise schedule. Adhere to ...  "
      ]
     },
     "execution_count": 6,
     "metadata": {},
     "output_type": "execute_result"
    }
   ],
   "source": [
    "data.head()"
   ]
  },
  {
   "cell_type": "code",
   "execution_count": 7,
   "metadata": {
    "colab": {
     "base_uri": "https://localhost:8080/"
    },
    "id": "PJQ79UyT47eL",
    "outputId": "1300b995-9353-4fa3-b43c-16f15071ddb7"
   },
   "outputs": [
    {
     "data": {
      "text/plain": [
       "(14589, 14)"
      ]
     },
     "execution_count": 7,
     "metadata": {},
     "output_type": "execute_result"
    }
   ],
   "source": [
    "data.shape"
   ]
  },
  {
   "cell_type": "markdown",
   "metadata": {
    "id": "C4xVPb1r-kK7"
   },
   "source": [
    "## 2. LABEL ENCODING"
   ]
  },
  {
   "cell_type": "code",
   "execution_count": 8,
   "metadata": {
    "id": "OqHujQBC48gF"
   },
   "outputs": [],
   "source": [
    "# Label Encoding categorical columns\n",
    "label_enc = LabelEncoder()\n",
    "for col in ['Sex', 'Hypertension', 'Diabetes', 'Level' ,'Fitness Goal', 'Fitness Type']:\n",
    "    data[col] = label_enc.fit_transform(data[col])"
   ]
  },
  {
   "cell_type": "code",
   "execution_count": 9,
   "metadata": {
    "colab": {
     "base_uri": "https://localhost:8080/",
     "height": 571
    },
    "id": "XFb_k0JH5AfX",
    "outputId": "96abaae6-94ad-435a-9f0d-8bb9f3b25958"
   },
   "outputs": [
    {
     "data": {
      "text/html": [
       "<div>\n",
       "<style scoped>\n",
       "    .dataframe tbody tr th:only-of-type {\n",
       "        vertical-align: middle;\n",
       "    }\n",
       "\n",
       "    .dataframe tbody tr th {\n",
       "        vertical-align: top;\n",
       "    }\n",
       "\n",
       "    .dataframe thead th {\n",
       "        text-align: right;\n",
       "    }\n",
       "</style>\n",
       "<table border=\"1\" class=\"dataframe\">\n",
       "  <thead>\n",
       "    <tr style=\"text-align: right;\">\n",
       "      <th></th>\n",
       "      <th>Sex</th>\n",
       "      <th>Age</th>\n",
       "      <th>Height</th>\n",
       "      <th>Weight</th>\n",
       "      <th>Hypertension</th>\n",
       "      <th>Diabetes</th>\n",
       "      <th>BMI</th>\n",
       "      <th>Level</th>\n",
       "      <th>Fitness Goal</th>\n",
       "      <th>Fitness Type</th>\n",
       "      <th>Exercises</th>\n",
       "      <th>Equipment</th>\n",
       "      <th>Diet</th>\n",
       "      <th>Recommendation</th>\n",
       "    </tr>\n",
       "  </thead>\n",
       "  <tbody>\n",
       "    <tr>\n",
       "      <th>0</th>\n",
       "      <td>1</td>\n",
       "      <td>18</td>\n",
       "      <td>1.68</td>\n",
       "      <td>47.5</td>\n",
       "      <td>0</td>\n",
       "      <td>0</td>\n",
       "      <td>16.83</td>\n",
       "      <td>3</td>\n",
       "      <td>0</td>\n",
       "      <td>1</td>\n",
       "      <td>Squats, deadlifts, bench presses, and overhead...</td>\n",
       "      <td>Dumbbells and barbells</td>\n",
       "      <td>Vegetables: (Carrots, Sweet Potato, and Lettuc...</td>\n",
       "      <td>Follow a regular exercise schedule. Adhere to ...</td>\n",
       "    </tr>\n",
       "    <tr>\n",
       "      <th>1</th>\n",
       "      <td>1</td>\n",
       "      <td>18</td>\n",
       "      <td>1.68</td>\n",
       "      <td>47.5</td>\n",
       "      <td>1</td>\n",
       "      <td>0</td>\n",
       "      <td>16.83</td>\n",
       "      <td>3</td>\n",
       "      <td>0</td>\n",
       "      <td>1</td>\n",
       "      <td>Squats, deadlifts, bench presses, and overhead...</td>\n",
       "      <td>Light athletic shoes, resistance bands, and li...</td>\n",
       "      <td>Vegetables: (Tomatoes, Garlic, leafy greens, b...</td>\n",
       "      <td>Follow a regular exercise schedule. Adhere to ...</td>\n",
       "    </tr>\n",
       "    <tr>\n",
       "      <th>2</th>\n",
       "      <td>1</td>\n",
       "      <td>18</td>\n",
       "      <td>1.68</td>\n",
       "      <td>47.5</td>\n",
       "      <td>0</td>\n",
       "      <td>1</td>\n",
       "      <td>16.83</td>\n",
       "      <td>3</td>\n",
       "      <td>0</td>\n",
       "      <td>1</td>\n",
       "      <td>Squats, yoga, deadlifts, bench presses, and ov...</td>\n",
       "      <td>Dumbbells, barbells and Blood glucose monitor</td>\n",
       "      <td>Vegetables: (Garlic, Roma Tomatoes, Capers and...</td>\n",
       "      <td>Follow a regular exercise schedule. Adhere to ...</td>\n",
       "    </tr>\n",
       "    <tr>\n",
       "      <th>3</th>\n",
       "      <td>1</td>\n",
       "      <td>18</td>\n",
       "      <td>1.68</td>\n",
       "      <td>47.5</td>\n",
       "      <td>1</td>\n",
       "      <td>1</td>\n",
       "      <td>16.83</td>\n",
       "      <td>3</td>\n",
       "      <td>0</td>\n",
       "      <td>1</td>\n",
       "      <td>Squats, yoga, deadlifts, bench presses, and ov...</td>\n",
       "      <td>Light athletic shoes, resistance bands, light ...</td>\n",
       "      <td>Vegetables: (Garlic, Roma Tomatoes, Capers, Gr...</td>\n",
       "      <td>Follow a regular exercise schedule. Adhere to ...</td>\n",
       "    </tr>\n",
       "    <tr>\n",
       "      <th>4</th>\n",
       "      <td>1</td>\n",
       "      <td>18</td>\n",
       "      <td>1.68</td>\n",
       "      <td>47.5</td>\n",
       "      <td>0</td>\n",
       "      <td>0</td>\n",
       "      <td>16.83</td>\n",
       "      <td>3</td>\n",
       "      <td>0</td>\n",
       "      <td>1</td>\n",
       "      <td>Squats, deadlifts, bench presses, and overhead...</td>\n",
       "      <td>Dumbbells and barbells</td>\n",
       "      <td>Vegetables: (Carrots, Sweet Potato, Lettuce); ...</td>\n",
       "      <td>Follow a regular exercise schedule. Adhere to ...</td>\n",
       "    </tr>\n",
       "  </tbody>\n",
       "</table>\n",
       "</div>"
      ],
      "text/plain": [
       "   Sex  Age  Height  Weight  Hypertension  Diabetes    BMI  Level  \\\n",
       "0    1   18    1.68    47.5             0         0  16.83      3   \n",
       "1    1   18    1.68    47.5             1         0  16.83      3   \n",
       "2    1   18    1.68    47.5             0         1  16.83      3   \n",
       "3    1   18    1.68    47.5             1         1  16.83      3   \n",
       "4    1   18    1.68    47.5             0         0  16.83      3   \n",
       "\n",
       "   Fitness Goal  Fitness Type  \\\n",
       "0             0             1   \n",
       "1             0             1   \n",
       "2             0             1   \n",
       "3             0             1   \n",
       "4             0             1   \n",
       "\n",
       "                                           Exercises  \\\n",
       "0  Squats, deadlifts, bench presses, and overhead...   \n",
       "1  Squats, deadlifts, bench presses, and overhead...   \n",
       "2  Squats, yoga, deadlifts, bench presses, and ov...   \n",
       "3  Squats, yoga, deadlifts, bench presses, and ov...   \n",
       "4  Squats, deadlifts, bench presses, and overhead...   \n",
       "\n",
       "                                           Equipment  \\\n",
       "0                             Dumbbells and barbells   \n",
       "1  Light athletic shoes, resistance bands, and li...   \n",
       "2      Dumbbells, barbells and Blood glucose monitor   \n",
       "3  Light athletic shoes, resistance bands, light ...   \n",
       "4                             Dumbbells and barbells   \n",
       "\n",
       "                                                Diet  \\\n",
       "0  Vegetables: (Carrots, Sweet Potato, and Lettuc...   \n",
       "1  Vegetables: (Tomatoes, Garlic, leafy greens, b...   \n",
       "2  Vegetables: (Garlic, Roma Tomatoes, Capers and...   \n",
       "3  Vegetables: (Garlic, Roma Tomatoes, Capers, Gr...   \n",
       "4  Vegetables: (Carrots, Sweet Potato, Lettuce); ...   \n",
       "\n",
       "                                      Recommendation  \n",
       "0  Follow a regular exercise schedule. Adhere to ...  \n",
       "1  Follow a regular exercise schedule. Adhere to ...  \n",
       "2  Follow a regular exercise schedule. Adhere to ...  \n",
       "3  Follow a regular exercise schedule. Adhere to ...  \n",
       "4  Follow a regular exercise schedule. Adhere to ...  "
      ]
     },
     "execution_count": 9,
     "metadata": {},
     "output_type": "execute_result"
    }
   ],
   "source": [
    "data.head()"
   ]
  },
  {
   "cell_type": "markdown",
   "metadata": {
    "id": "aV1FNCOl-nJ8"
   },
   "source": [
    "## 3. NORMALIZATION"
   ]
  },
  {
   "cell_type": "code",
   "execution_count": 10,
   "metadata": {
    "id": "q4_LsMXZ5CVd"
   },
   "outputs": [],
   "source": [
    "# Normalize numerical features\n",
    "scaler = StandardScaler()\n",
    "data[['Age', 'Height', 'Weight', 'BMI']] = scaler.fit_transform(data[['Age', 'Height', 'Weight', 'BMI']])"
   ]
  },
  {
   "cell_type": "code",
   "execution_count": 11,
   "metadata": {
    "colab": {
     "base_uri": "https://localhost:8080/",
     "height": 677
    },
    "id": "EgdwjxQD5Nwa",
    "outputId": "aff46c33-73b1-48c7-dc16-c581e5d7e641"
   },
   "outputs": [
    {
     "data": {
      "text/html": [
       "<div>\n",
       "<style scoped>\n",
       "    .dataframe tbody tr th:only-of-type {\n",
       "        vertical-align: middle;\n",
       "    }\n",
       "\n",
       "    .dataframe tbody tr th {\n",
       "        vertical-align: top;\n",
       "    }\n",
       "\n",
       "    .dataframe thead th {\n",
       "        text-align: right;\n",
       "    }\n",
       "</style>\n",
       "<table border=\"1\" class=\"dataframe\">\n",
       "  <thead>\n",
       "    <tr style=\"text-align: right;\">\n",
       "      <th></th>\n",
       "      <th>Sex</th>\n",
       "      <th>Age</th>\n",
       "      <th>Height</th>\n",
       "      <th>Weight</th>\n",
       "      <th>Hypertension</th>\n",
       "      <th>Diabetes</th>\n",
       "      <th>BMI</th>\n",
       "      <th>Level</th>\n",
       "      <th>Fitness Goal</th>\n",
       "      <th>Fitness Type</th>\n",
       "      <th>Exercises</th>\n",
       "      <th>Equipment</th>\n",
       "      <th>Diet</th>\n",
       "      <th>Recommendation</th>\n",
       "    </tr>\n",
       "  </thead>\n",
       "  <tbody>\n",
       "    <tr>\n",
       "      <th>0</th>\n",
       "      <td>1</td>\n",
       "      <td>-1.63391</td>\n",
       "      <td>-0.202298</td>\n",
       "      <td>-1.14858</td>\n",
       "      <td>0</td>\n",
       "      <td>0</td>\n",
       "      <td>-1.121606</td>\n",
       "      <td>3</td>\n",
       "      <td>0</td>\n",
       "      <td>1</td>\n",
       "      <td>Squats, deadlifts, bench presses, and overhead...</td>\n",
       "      <td>Dumbbells and barbells</td>\n",
       "      <td>Vegetables: (Carrots, Sweet Potato, and Lettuc...</td>\n",
       "      <td>Follow a regular exercise schedule. Adhere to ...</td>\n",
       "    </tr>\n",
       "    <tr>\n",
       "      <th>1</th>\n",
       "      <td>1</td>\n",
       "      <td>-1.63391</td>\n",
       "      <td>-0.202298</td>\n",
       "      <td>-1.14858</td>\n",
       "      <td>1</td>\n",
       "      <td>0</td>\n",
       "      <td>-1.121606</td>\n",
       "      <td>3</td>\n",
       "      <td>0</td>\n",
       "      <td>1</td>\n",
       "      <td>Squats, deadlifts, bench presses, and overhead...</td>\n",
       "      <td>Light athletic shoes, resistance bands, and li...</td>\n",
       "      <td>Vegetables: (Tomatoes, Garlic, leafy greens, b...</td>\n",
       "      <td>Follow a regular exercise schedule. Adhere to ...</td>\n",
       "    </tr>\n",
       "    <tr>\n",
       "      <th>2</th>\n",
       "      <td>1</td>\n",
       "      <td>-1.63391</td>\n",
       "      <td>-0.202298</td>\n",
       "      <td>-1.14858</td>\n",
       "      <td>0</td>\n",
       "      <td>1</td>\n",
       "      <td>-1.121606</td>\n",
       "      <td>3</td>\n",
       "      <td>0</td>\n",
       "      <td>1</td>\n",
       "      <td>Squats, yoga, deadlifts, bench presses, and ov...</td>\n",
       "      <td>Dumbbells, barbells and Blood glucose monitor</td>\n",
       "      <td>Vegetables: (Garlic, Roma Tomatoes, Capers and...</td>\n",
       "      <td>Follow a regular exercise schedule. Adhere to ...</td>\n",
       "    </tr>\n",
       "    <tr>\n",
       "      <th>3</th>\n",
       "      <td>1</td>\n",
       "      <td>-1.63391</td>\n",
       "      <td>-0.202298</td>\n",
       "      <td>-1.14858</td>\n",
       "      <td>1</td>\n",
       "      <td>1</td>\n",
       "      <td>-1.121606</td>\n",
       "      <td>3</td>\n",
       "      <td>0</td>\n",
       "      <td>1</td>\n",
       "      <td>Squats, yoga, deadlifts, bench presses, and ov...</td>\n",
       "      <td>Light athletic shoes, resistance bands, light ...</td>\n",
       "      <td>Vegetables: (Garlic, Roma Tomatoes, Capers, Gr...</td>\n",
       "      <td>Follow a regular exercise schedule. Adhere to ...</td>\n",
       "    </tr>\n",
       "    <tr>\n",
       "      <th>4</th>\n",
       "      <td>1</td>\n",
       "      <td>-1.63391</td>\n",
       "      <td>-0.202298</td>\n",
       "      <td>-1.14858</td>\n",
       "      <td>0</td>\n",
       "      <td>0</td>\n",
       "      <td>-1.121606</td>\n",
       "      <td>3</td>\n",
       "      <td>0</td>\n",
       "      <td>1</td>\n",
       "      <td>Squats, deadlifts, bench presses, and overhead...</td>\n",
       "      <td>Dumbbells and barbells</td>\n",
       "      <td>Vegetables: (Carrots, Sweet Potato, Lettuce); ...</td>\n",
       "      <td>Follow a regular exercise schedule. Adhere to ...</td>\n",
       "    </tr>\n",
       "  </tbody>\n",
       "</table>\n",
       "</div>"
      ],
      "text/plain": [
       "   Sex      Age    Height   Weight  Hypertension  Diabetes       BMI  Level  \\\n",
       "0    1 -1.63391 -0.202298 -1.14858             0         0 -1.121606      3   \n",
       "1    1 -1.63391 -0.202298 -1.14858             1         0 -1.121606      3   \n",
       "2    1 -1.63391 -0.202298 -1.14858             0         1 -1.121606      3   \n",
       "3    1 -1.63391 -0.202298 -1.14858             1         1 -1.121606      3   \n",
       "4    1 -1.63391 -0.202298 -1.14858             0         0 -1.121606      3   \n",
       "\n",
       "   Fitness Goal  Fitness Type  \\\n",
       "0             0             1   \n",
       "1             0             1   \n",
       "2             0             1   \n",
       "3             0             1   \n",
       "4             0             1   \n",
       "\n",
       "                                           Exercises  \\\n",
       "0  Squats, deadlifts, bench presses, and overhead...   \n",
       "1  Squats, deadlifts, bench presses, and overhead...   \n",
       "2  Squats, yoga, deadlifts, bench presses, and ov...   \n",
       "3  Squats, yoga, deadlifts, bench presses, and ov...   \n",
       "4  Squats, deadlifts, bench presses, and overhead...   \n",
       "\n",
       "                                           Equipment  \\\n",
       "0                             Dumbbells and barbells   \n",
       "1  Light athletic shoes, resistance bands, and li...   \n",
       "2      Dumbbells, barbells and Blood glucose monitor   \n",
       "3  Light athletic shoes, resistance bands, light ...   \n",
       "4                             Dumbbells and barbells   \n",
       "\n",
       "                                                Diet  \\\n",
       "0  Vegetables: (Carrots, Sweet Potato, and Lettuc...   \n",
       "1  Vegetables: (Tomatoes, Garlic, leafy greens, b...   \n",
       "2  Vegetables: (Garlic, Roma Tomatoes, Capers and...   \n",
       "3  Vegetables: (Garlic, Roma Tomatoes, Capers, Gr...   \n",
       "4  Vegetables: (Carrots, Sweet Potato, Lettuce); ...   \n",
       "\n",
       "                                      Recommendation  \n",
       "0  Follow a regular exercise schedule. Adhere to ...  \n",
       "1  Follow a regular exercise schedule. Adhere to ...  \n",
       "2  Follow a regular exercise schedule. Adhere to ...  \n",
       "3  Follow a regular exercise schedule. Adhere to ...  \n",
       "4  Follow a regular exercise schedule. Adhere to ...  "
      ]
     },
     "execution_count": 11,
     "metadata": {},
     "output_type": "execute_result"
    }
   ],
   "source": [
    "data.head()"
   ]
  },
  {
   "cell_type": "markdown",
   "metadata": {
    "id": "MpLWG-mN-zEK"
   },
   "source": [
    "## 4. RECOMMENDATION, FEEDBACK & EVALUATION"
   ]
  },
  {
   "cell_type": "markdown",
   "metadata": {
    "id": "nPgPf5U9_oCC"
   },
   "source": [
    "`Cosine similarity` is a metric used to measure how similar two vectors are\n",
    "  - Once the cosine similarity scores are calculated between the new user's profile and existing users, the system identifies the top similar users (those with the highest similarity scores).\n",
    "  - The system then generates recommendations based on the most common exercises and diets of these similar users, thereby tailoring suggestions to the new user's profile."
   ]
  },
  {
   "cell_type": "code",
   "execution_count": null,
   "metadata": {
    "colab": {
     "base_uri": "https://localhost:8080/"
    },
    "id": "suxW3qhJi6gE",
    "outputId": "9ef925c7-ee0b-465b-c259-cfe9537b9e8c"
   },
   "outputs": [
    {
     "name": "stdout",
     "output_type": "stream",
     "text": [
      "Please enter your details for a personalized workout and diet recommendation.\n"
     ]
    },
    {
     "name": "stdout",
     "output_type": "stream",
     "text": [
      "Enter Sex (Male : 1/Female : 0):  1\n",
      "Enter Age:  21\n",
      "Enter Height in meters (e.g., 1.75):  1.6\n",
      "Enter Weight in kg:  23\n",
      "Do you have Hypertension (Yes : 1/No : 0):  0\n",
      "Do you have Diabetes (Yes : 1/No : 0):  1\n",
      "Enter BMI:  17\n",
      "Enter Level (Underweight : 3, Normal : 0, Overweight : 2, Obese : 1):  1\n",
      "Enter Fitness Goal (Weight Gain : 0, Weight Loss : 1):  0\n",
      "Enter Fitness Type (Muscular Fitness : 1, Cardio Fitness : 0):  1\n"
     ]
    },
    {
     "name": "stdout",
     "output_type": "stream",
     "text": [
      "\n",
      "Recommended Workout and Diet Plans based on your input:\n",
      "\n",
      "Recommendation 1 (Exact match):\n",
      "EXERCISES: Squats, yoga, deadlifts, bench presses, and overhead presses\n",
      "EQUIPMENTS: Dumbbells, barbells and Blood glucose monitor\n",
      "DIET: Vegetables: (Garlic, mushroon, green papper);Protein Intake: ( Baru Nuts, Beech Nuts, and Hemp Seeds); Juice : (Apple juice, Mango, and Beetroot Juice)\n",
      "\n",
      "Recommendation 2 (Slight variation):\n",
      "EXERCISES: Squats, deadlifts, bench presses, and overhead presses\n",
      "EQUIPMENTS: Dumbbells and barbells\n",
      "DIET: Vegetables: (Garlic, mushroon, green papper);Protein Intake: ( Baru Nuts, Beech Nuts, and Hemp Seeds); Juice : (Apple juice, Mango, and Beetroot Juice)\n"
     ]
    },
    {
     "name": "stdout",
     "output_type": "stream",
     "text": [
      "Was recommendation 1 relevant? (Yes: 1, No: 0):  1\n"
     ]
    }
   ],
   "source": [
    "import random\n",
    "\n",
    "def get_recommendation(top_n=3):\n",
    "    print(\"Please enter your details for a personalized workout and diet recommendation.\")\n",
    "    user_input = {\n",
    "        'Sex': int(input(\"Enter Sex (Male : 1/Female : 0): \")),\n",
    "        'Age': float(input(\"Enter Age: \")),\n",
    "        'Height': float(input(\"Enter Height in meters (e.g., 1.75): \")),\n",
    "        'Weight': float(input(\"Enter Weight in kg: \")),\n",
    "        'Hypertension': int(input(\"Do you have Hypertension (Yes : 1/No : 0): \")),\n",
    "        'Diabetes': int(input(\"Do you have Diabetes (Yes : 1/No : 0): \")),\n",
    "        'BMI': float(input(\"Enter BMI: \")),\n",
    "        'Level': int(input(\"Enter Level (Underweight : 3, Normal : 0, Overweight : 2, Obese : 1): \")),\n",
    "        'Fitness Goal': int(input(\"Enter Fitness Goal (Weight Gain : 0, Weight Loss : 1): \")),\n",
    "        'Fitness Type': int(input(\"Enter Fitness Type (Muscular Fitness : 1, Cardio Fitness : 0): \"))\n",
    "    }\n",
    "\n",
    "    # Normalize numerical features\n",
    "    num_features = ['Age', 'Height', 'Weight', 'BMI']\n",
    "    user_df = pd.DataFrame([user_input], columns=num_features)\n",
    "    user_df[num_features] = scaler.transform(user_df[num_features])\n",
    "    user_input.update(user_df.iloc[0].to_dict())\n",
    "    user_df = pd.DataFrame([user_input])\n",
    "\n",
    "    # Calculate similarity scores for exact user input\n",
    "    user_features = data[['Sex', 'Age', 'Height', 'Weight', 'Hypertension', 'Diabetes', 'BMI', 'Level', 'Fitness Goal', 'Fitness Type']]\n",
    "    similarity_scores = cosine_similarity(user_features, user_df).flatten()\n",
    "\n",
    "    # Retrieve top similar users and get the first recommendation\n",
    "    similar_user_indices = similarity_scores.argsort()[-5:][::-1]\n",
    "    similar_users = data.iloc[similar_user_indices]\n",
    "    recommendation_1 = similar_users[['Exercises', 'Diet', 'Equipment']].mode().iloc[0]  # Most common recommendation among top similar users\n",
    "\n",
    "    # Simulate two additional recommendations by modifying input values slightly\n",
    "    simulated_recommendations = []\n",
    "\n",
    "    for _ in range(2):\n",
    "        modified_input = user_input.copy()\n",
    "\n",
    "        # Randomly adjust Age, Weight, and BMI with larger variations\n",
    "        modified_input['Age'] += random.randint(-5, 5)  # Adjust age by a larger range\n",
    "        modified_input['Weight'] += random.uniform(-5, 5)  # Adjust weight by a larger range\n",
    "        modified_input['BMI'] += random.uniform(-1, 1)  # Adjust BMI by a larger range\n",
    "\n",
    "        # Normalize modified input values\n",
    "        modified_user_df = pd.DataFrame([modified_input], columns=num_features)\n",
    "        modified_user_df[num_features] = scaler.transform(modified_user_df[num_features])\n",
    "        modified_input.update(modified_user_df.iloc[0].to_dict())\n",
    "\n",
    "        # Calculate similarity scores for modified input\n",
    "        modified_similarity_scores = cosine_similarity(user_features, pd.DataFrame([modified_input])).flatten()\n",
    "        modified_similar_user_indices = modified_similarity_scores.argsort()[-5:][::-1]\n",
    "        modified_similar_users = data.iloc[modified_similar_user_indices]\n",
    "        recommendation = modified_similar_users[['Exercises', 'Diet', 'Equipment']].mode().iloc[0]  # Get most common recommendation\n",
    "\n",
    "        # Check if the recommendation is already in simulated recommendations\n",
    "        if not any(rec['Exercises'] == recommendation['Exercises'] and rec['Diet'] == recommendation['Diet'] and rec['Equipment'] == recommendation['Equipment'] for rec in simulated_recommendations):\n",
    "            simulated_recommendations.append(recommendation)\n",
    "\n",
    "    # Display all recommendations\n",
    "    print(\"\\nRecommended Workout and Diet Plans based on your input:\")\n",
    "    print(\"\\nRecommendation 1 (Exact match):\")\n",
    "    print(\"EXERCISES:\", recommendation_1['Exercises'])\n",
    "    print(\"EQUIPMENTS:\", recommendation_1['Equipment'])\n",
    "    print(\"DIET:\", recommendation_1['Diet'])\n",
    "\n",
    "    for idx, rec in enumerate(simulated_recommendations, start=2):\n",
    "        print(f\"\\nRecommendation {idx} (Slight variation):\")\n",
    "        print(\"EXERCISES:\", rec['Exercises'])\n",
    "        print(\"EQUIPMENTS:\", rec['Equipment'])\n",
    "        print(\"DIET:\", rec['Diet'])\n",
    "\n",
    "    # Collect feedback for each recommendation\n",
    "    feedback_matrix = []\n",
    "    for i in range(len(simulated_recommendations) + 1):  # +1 for the first recommendation\n",
    "        feedback = int(input(f\"Was recommendation {i+1} relevant? (Yes: 1, No: 0): \"))\n",
    "        feedback_matrix.append(feedback)\n",
    "\n",
    "    # Calculate MRR\n",
    "    relevant_indices = [i + 1 for i, feedback in enumerate(feedback_matrix) if feedback == 1]\n",
    "    if relevant_indices:\n",
    "        mrr = np.mean([1 / rank for rank in relevant_indices])  # Calculate MRR\n",
    "    else:\n",
    "        mrr = 0.0  # If no relevant recommendations\n",
    "\n",
    "    print(f\"\\nMean Reciprocal Rank (MRR): {mrr:.2f}\")\n",
    "\n",
    "    return [recommendation_1] + simulated_recommendations\n",
    "\n",
    "# Get and display recommendations\n",
    "recommendations = get_recommendation(top_n=3)"
   ]
  },
  {
   "cell_type": "code",
   "execution_count": null,
   "metadata": {},
   "outputs": [],
   "source": []
  }
 ],
 "metadata": {
  "colab": {
   "provenance": []
  },
  "kernelspec": {
   "display_name": "venv",
   "language": "python",
   "name": "python3"
  },
  "language_info": {
   "codemirror_mode": {
    "name": "ipython",
    "version": 3
   },
   "file_extension": ".py",
   "mimetype": "text/x-python",
   "name": "python",
   "nbconvert_exporter": "python",
   "pygments_lexer": "ipython3",
   "version": "3.12.7"
  }
 },
 "nbformat": 4,
 "nbformat_minor": 4
}
